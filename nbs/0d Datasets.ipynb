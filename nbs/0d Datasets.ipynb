{
 "cells": [
  {
   "cell_type": "code",
   "execution_count": null,
   "metadata": {},
   "outputs": [],
   "source": [
    "#|default_exp datasets"
   ]
  },
  {
   "cell_type": "markdown",
   "metadata": {},
   "source": [
    "# 0d Datasets\n",
    "> What's on the tin! Pytorch utils to load our datasets, to make future use of them exceptionally easy."
   ]
  },
  {
   "cell_type": "code",
   "execution_count": null,
   "metadata": {},
   "outputs": [],
   "source": [
    "#|export\n",
    "import torch\n",
    "\n",
    "class PointcloudWithDistancesDataset(torch.utils.data.Dataset):\n",
    "    def __init__(self, pointcloud, distances, batch_size = 64):\n",
    "        self.pointcloud = torch.tensor(pointcloud, dtype=torch.float32)\n",
    "        self.distances = torch.tensor(distances, dtype=torch.float32)\n",
    "        self.batch_size = batch_size\n",
    "\n",
    "    def __len__(self):\n",
    "        return len(self.pointcloud)\n",
    "    \n",
    "    def __getitem__(self, idx):\n",
    "        batch_idxs = torch.randperm(len(self.pointcloud))[:self.batch_size]\n",
    "        batch = {}\n",
    "        batch['x'] = self.pointcloud[batch_idxs]\n",
    "        batch['d'] = self.distances[batch_idxs][:,batch_idxs]\n",
    "        return batch"
   ]
  },
  {
   "cell_type": "code",
   "execution_count": null,
   "metadata": {},
   "outputs": [],
   "source": [
    "#|export\n",
    "def dataloader_from_pointcloud_with_distances(pointcloud, distances, batch_size = 64):\n",
    "    dataset = PointcloudWithDistancesDataset(pointcloud, distances, batch_size)\n",
    "    dataloader = torch.utils.data.DataLoader(dataset, batch_size=None, shuffle=True)\n",
    "    return dataloader"
   ]
  },
  {
   "cell_type": "code",
   "execution_count": null,
   "metadata": {},
   "outputs": [],
   "source": [
    "#|export\n",
    "def train_and_testloader_from_pointcloud_with_distances(\n",
    "    pointcloud, distances, batch_size = 64, train_test_split = 0.8\n",
    "):\n",
    "    X = pointcloud\n",
    "    D = distances\n",
    "    split_idx = int(len(X)*train_test_split)\n",
    "    X_train = X[:split_idx]\n",
    "    X_test = X[split_idx:]\n",
    "    D_train = D[:split_idx,:split_idx]\n",
    "    D_test = D[split_idx:,split_idx:]\n",
    "    trainloader = dataloader_from_pointcloud_with_distances(X_train, D_train, batch_size)\n",
    "    testloader = dataloader_from_pointcloud_with_distances(X_test, D_test, batch_size)\n",
    "    return trainloader, testloader"
   ]
  },
  {
   "cell_type": "markdown",
   "metadata": {},
   "source": [
    "# Compiling the datasets\n",
    "Though defined in other notebooks, we compile the datasets here for ease of use."
   ]
  },
  {
   "cell_type": "code",
   "execution_count": null,
   "metadata": {},
   "outputs": [],
   "source": [
    "#|export\n",
    "from autometric.n0d1_branching_datasets import *"
   ]
  },
  {
   "cell_type": "code",
   "execution_count": null,
   "metadata": {},
   "outputs": [],
   "source": [
    "#|export\n",
    "from diffusion_curvature.datasets import *\n",
    "from diffusion_curvature.utils import plot_3d"
   ]
  }
 ],
 "metadata": {
  "kernelspec": {
   "display_name": "python3",
   "language": "python",
   "name": "python3"
  }
 },
 "nbformat": 4,
 "nbformat_minor": 4
}
