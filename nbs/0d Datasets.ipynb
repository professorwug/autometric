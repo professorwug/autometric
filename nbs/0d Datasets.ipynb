{
 "cells": [
  {
   "cell_type": "code",
   "execution_count": null,
   "metadata": {},
   "outputs": [],
   "source": [
    "#|default_exp datasets"
   ]
  },
  {
   "cell_type": "markdown",
   "metadata": {},
   "source": [
    "# 0d Datasets\n",
    "> What's on the tin! Pytorch utils to load our datasets, to make future use of them exceptionally easy."
   ]
  },
  {
   "cell_type": "code",
   "execution_count": null,
   "metadata": {},
   "outputs": [],
   "source": [
    "#|export\n",
    "import torch\n",
    "\n",
    "class PointcloudWithDistancesDataset(torch.utils.data.Dataset):\n",
    "    def __init__(self, pointcloud, distances, batch_size = 64):\n",
    "        self.pointcloud = torch.tensor(pointcloud, dtype=torch.float32)\n",
    "        self.distances = torch.tensor(distances, dtype=torch.float32)\n",
    "        self.batch_size = batch_size\n",
    "\n",
    "    def __len__(self):\n",
    "        return len(self.pointcloud)\n",
    "    \n",
    "    def __getitem__(self, idx):\n",
    "        batch_idxs = torch.randperm(len(self.pointcloud))[:self.batch_size]\n",
    "        batch = {}\n",
    "        batch['x'] = self.pointcloud[batch_idxs]\n",
    "        batch['d'] = self.distances[batch_idxs]\n",
    "        return batch"
   ]
  },
  {
   "cell_type": "code",
   "execution_count": null,
   "metadata": {},
   "outputs": [],
   "source": [
    "#|export\n",
    "def dataloader_from_pointcloud_with_distances(pointcloud, distances, batch_size = 64):\n",
    "    dataset = PointcloudWithDistancesDataset(pointcloud, distances, batch_size)\n",
    "    dataloader = torch.utils.data.DataLoader(dataset, batch_size=None, shuffle=True)\n",
    "    return dataloader"
   ]
  },
  {
   "cell_type": "markdown",
   "metadata": {},
   "source": [
    "# Compiling the datasets\n",
    "Though defined in other notebooks, we compile the datasets here for ease of use."
   ]
  },
  {
   "cell_type": "code",
   "execution_count": null,
   "metadata": {},
   "outputs": [],
   "source": [
    "#|export\n",
    "from autometric.n0d1_branching_datasets import *"
   ]
  }
 ],
 "metadata": {
  "kernelspec": {
   "display_name": "python3",
   "language": "python",
   "name": "python3"
  }
 },
 "nbformat": 4,
 "nbformat_minor": 2
}
