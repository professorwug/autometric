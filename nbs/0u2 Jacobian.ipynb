{
 "cells": [
  {
   "cell_type": "code",
   "execution_count": null,
   "metadata": {},
   "outputs": [],
   "source": [
    "#|default_exp n0u2_jacobian\n",
    "#|export\n",
    "import torch\n",
    "from torch.autograd import grad\n",
    "\n",
    "def compute_jacobian_function(f, x):\n",
    "    \"\"\"\n",
    "    Compute the Jacobian of the decoder wrt a batch of points in the latent space using an efficient broadcasting approach.\n",
    "    :param model: The VAE model.\n",
    "    :param z_batch: A batch of points in the latent space (tensor).\n",
    "    :return: A batch of Jacobian matrices.\n",
    "    \"\"\"\n",
    "    # z_batch = z_batch.clone().detach().requires_grad_(True)\n",
    "    x.requires_grad_(True)\n",
    "    # model.no_grad()\n",
    "    output = f(x)\n",
    "    batch_size, output_dim, latent_dim = *output.shape, x.shape[-1]\n",
    "\n",
    "    # Use autograd's grad function to get gradients for each output dimension\n",
    "    jacobian = torch.zeros(batch_size, output_dim, latent_dim).to(x.device)\n",
    "    for i in range(output_dim):\n",
    "        grad_outputs = torch.zeros(batch_size, output_dim).to(x.device)\n",
    "        grad_outputs[:, i] = 1.0\n",
    "        gradients = grad(outputs=output, inputs=x, grad_outputs=grad_outputs, create_graph=True, retain_graph=True, only_inputs=True)[0]\n",
    "        jacobian[:, i, :] = gradients\n",
    "    x.requires_grad_(False)\n",
    "\n",
    "    return jacobian"
   ]
  }
 ],
 "metadata": {},
 "nbformat": 4,
 "nbformat_minor": 2
}
