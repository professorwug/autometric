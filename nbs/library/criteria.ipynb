{
 "cells": [
  {
   "cell_type": "code",
   "execution_count": null,
   "metadata": {},
   "outputs": [
    {
     "name": "stdout",
     "output_type": "stream",
     "text": [
      "The autoreload extension is already loaded. To reload it, use:\n",
      "  %reload_ext autoreload\n"
     ]
    }
   ],
   "source": [
    "#|default_exp criteria\n",
    "import numpy as np\n",
    "import matplotlib.pyplot as plt\n",
    "import deepdish\n",
    "\n",
    "import os\n",
    "os.environ[\"GEOMSTATS_BACKEND\"] = \"pytorch\"\n",
    "\n",
    "# models\n",
    "import torch\n",
    "from autometric.autoencoders import DistanceMatchingAutoencoder\n",
    "from autometric.datasets import *\n",
    "\n",
    "device = torch.device(\"cuda:0\" if torch.cuda.is_available() else \"cpu\")\n",
    "\n",
    "%load_ext autoreload\n",
    "%autoreload 2"
   ]
  },
  {
   "cell_type": "markdown",
   "metadata": {},
   "source": [
    "# 1d Embedding Analysis"
   ]
  },
  {
   "cell_type": "markdown",
   "metadata": {},
   "source": [
    "What can the autometrics tell us? This goes to the heart of the project - and, in this notebook, we develop the tools based on the metrics."
   ]
  },
  {
   "cell_type": "markdown",
   "metadata": {},
   "source": [
    "These tools come in two flavors:\n",
    "1. Analysis of the encoder. The pullback metric here is less rich, but can still be revealing.\n",
    "2. Analysis of the decoder. Here, insofar as the decoder accurately reconstructs the data, we're guaranteed a proper metric. We can then analyze features of this metric independently, such as how often volume changes, or how 'chaotic' the reconstruction is."
   ]
  },
  {
   "cell_type": "markdown",
   "metadata": {},
   "source": [
    "# Encoder Analysis"
   ]
  },
  {
   "cell_type": "markdown",
   "metadata": {},
   "source": [
    "## Eigenvalues of the Metric\n",
    "\n",
    "Each eigenvalue represents the degree of preservation applied to each direction in the ambient space under the embedding, where $1$ is total preservation, and $0.1$ means it's being compressed by a factor of 10. "
   ]
  },
  {
   "cell_type": "code",
   "execution_count": null,
   "metadata": {},
   "outputs": [
    {
     "name": "stderr",
     "output_type": "stream",
     "text": [
      "INFO: Using pytorch backend\n"
     ]
    }
   ],
   "source": [
    "#|export\n",
    "from autometric.metrics import PullbackMetric\n",
    "import numpy as np\n",
    "import torch\n",
    "def determinants_of_encoder_pullback(model, dataloader):\n",
    "    # returns the determinants of the metric matrices for each point in the dataset\n",
    "    Metric = PullbackMetric(model.input_dim, model.encoder)\n",
    "    Gs = Metric.metric_matrix(dataloader.dataset.pointcloud).detach().cpu().numpy()\n",
    "    dets = [np.linalg.det(G) for G in Gs]\n",
    "    return np.array(dets)"
   ]
  },
  {
   "cell_type": "code",
   "execution_count": null,
   "metadata": {},
   "outputs": [],
   "source": [
    "#|export\n",
    "from autometric.metrics import PullbackMetric\n",
    "import numpy as np\n",
    "import torch\n",
    "def trace_of_encoder_pullback(model, dataloader):\n",
    "    # returns the determinants of the metric matrices for each point in the dataset\n",
    "    Metric = PullbackMetric(model.input_dim, model.encoder)\n",
    "    Gs = Metric.metric_matrix(dataloader.dataset.pointcloud).detach().cpu().numpy()\n",
    "    dets = [np.sum(np.linalg.eigvals(G)) for G in Gs]\n",
    "    return np.array(dets)"
   ]
  },
  {
   "cell_type": "code",
   "execution_count": null,
   "metadata": {},
   "outputs": [],
   "source": [
    "#|export\n",
    "from autometric.metrics import PullbackMetric\n",
    "import numpy as np\n",
    "import torch\n",
    "def rank_of_encoder_pullback(model, dataloader, eps=1e-10):\n",
    "    # returns the determinants of the metric matrices for each point in the dataset\n",
    "    Metric = PullbackMetric(model.input_dim, model.encoder)\n",
    "    Gs = Metric.metric_matrix(dataloader.dataset.pointcloud).detach().cpu().numpy()\n",
    "    ranks = [np.sum((np.linalg.eigvals(G)>eps).astype(int)) for G in Gs]\n",
    "    return np.array(ranks)"
   ]
  },
  {
   "cell_type": "code",
   "execution_count": null,
   "metadata": {},
   "outputs": [],
   "source": [
    "#|export\n",
    "from autometric.metrics import PullbackMetric\n",
    "import numpy as np\n",
    "import torch\n",
    "def spectral_entropy_of_matrix(A):\n",
    "    # returns the spectral entropy of a matrix\n",
    "    # A is a numpy array\n",
    "    eigvals = np.linalg.eigvals(A)\n",
    "    eigvals = eigvals[eigvals > 0]\n",
    "    eigvals /= eigvals.sum()\n",
    "    return -np.sum(eigvals * np.log(eigvals))\n",
    "\n",
    "def spectral_entropy_of_encoder_pullback(model, dataloader):\n",
    "    # returns the determinants of the metric matrices for each point in the dataset\n",
    "    Metric = PullbackMetric(model.input_dim, model.encoder)\n",
    "    Gs = Metric.metric_matrix(dataloader.dataset.pointcloud).detach().cpu().numpy()\n",
    "    entropies = [spectral_entropy_of_matrix(G) for G in Gs]\n",
    "    return np.array(entropies)"
   ]
  },
  {
   "cell_type": "code",
   "execution_count": null,
   "metadata": {},
   "outputs": [],
   "source": [
    "#|export\n",
    "def evals_of_encoder_pullback(model, dataloader):\n",
    "    # returns the determinants of the metric matrices for each point in the dataset\n",
    "    Metric = PullbackMetric(model.input_dim, model.encoder)\n",
    "    Gs = Metric.metric_matrix(dataloader.dataset.pointcloud).detach().cpu().numpy()\n",
    "    e = [np.sort(np.linalg.eigvals(G))[::-1] for G in Gs]\n",
    "    return np.vstack(e)"
   ]
  },
  {
   "cell_type": "code",
   "execution_count": null,
   "metadata": {},
   "outputs": [],
   "source": [
    "#|export\n",
    "def smallest_eigenvector(matrix):\n",
    "    \"\"\"\n",
    "    Find the eigenvector associated with the smallest eigenvalue of a square matrix.\n",
    "\n",
    "    Args:\n",
    "        matrix (np.array): A square numpy array representing a matrix.\n",
    "\n",
    "    Returns:\n",
    "        np.array: The eigenvector associated with the smallest eigenvalue.\n",
    "    \"\"\"\n",
    "    # Compute eigenvalues and eigenvectors\n",
    "    eigenvalues, eigenvectors = np.linalg.eig(matrix)\n",
    "\n",
    "    # Find the index of the smallest eigenvalue\n",
    "    min_index = np.argmin(eigenvalues)\n",
    "\n",
    "    # Return the corresponding eigenvector\n",
    "    return eigenvectors[:, min_index]\n",
    "def normal_vectors_of_encoder_pullback(model, dataloader):\n",
    "    # returns the determinants of the metric matrices for each point in the dataset\n",
    "    Metric = PullbackMetric(model.input_dim, model.encoder)\n",
    "    Gs = Metric.metric_matrix(dataloader.dataset.pointcloud).detach().cpu().numpy()\n",
    "    e = [smallest_eigenvector(G) for G in Gs]\n",
    "    return np.vstack(e)"
   ]
  },
  {
   "cell_type": "markdown",
   "metadata": {},
   "source": [
    "We'll wrap all of these metrics into a convenient form so they can be run en-masse on a single model, without having to specify each of them."
   ]
  },
  {
   "cell_type": "code",
   "execution_count": null,
   "metadata": {},
   "outputs": [],
   "source": [
    "#|export\n",
    "import matplotlib.pyplot as plt\n",
    "import numpy\n",
    "from autometric.utils import *\n",
    "from mpl_toolkits.mplot3d import Axes3D\n",
    "\n",
    "def visualize_encoder_pullback_metrics(model, dataloader, title):\n",
    "    X = model.encoder(dataloader.dataset.pointcloud).cpu().detach().numpy()\n",
    "    fig, axs = plt.subplots(2, 3, figsize=(12, 8))\n",
    "\n",
    "    spectral_entropy = spectral_entropy_of_encoder_pullback(model,dataloader)\n",
    "    axs[0,0].scatter(X[:,0],X[:,1],c=spectral_entropy)\n",
    "    axs[0,0].set_title(\"Spectral Entropy\")\n",
    "\n",
    "    trace = trace_of_encoder_pullback(model,dataloader)\n",
    "    axs[0,1].scatter(X[:,0],X[:,1],c=trace)\n",
    "    axs[0,1].set_title(\"Trace\")\n",
    "\n",
    "    rank = rank_of_encoder_pullback(model,dataloader)\n",
    "    axs[0,2].scatter(X[:,0],X[:,1],c=rank)\n",
    "    axs[0,2].set_title(\"Rank\")\n",
    "    \n",
    "    evals = evals_of_encoder_pullback(model, dataloader)\n",
    "    for i in range(3):\n",
    "        axs[1,i].scatter(X[:,0],X[:,1],c=evals[:,i])\n",
    "        axs[1,i].set_title(f\"{printnum(i)} Eigenvalue\")\n",
    "    \n",
    "    fig.suptitle(title)\n",
    "    plt.tight_layout()\n",
    "    plt.show()"
   ]
  },
  {
   "cell_type": "code",
   "execution_count": null,
   "metadata": {},
   "outputs": [],
   "source": [
    "#|export\n",
    "import matplotlib.pyplot as plt\n",
    "import numpy\n",
    "from autometric.utils import *\n",
    "from mpl_toolkits.mplot3d import Axes3D\n",
    "\n",
    "def visualize_encoder_pullback_metrics_in_ambient_space(model, dataloader, title):\n",
    "    X = model.encoder(dataloader.dataset.pointcloud).cpu().detach().numpy()\n",
    "    D = dataloader.dataset.pointcloud.cpu().detach().numpy()\n",
    "    figure = plt.figure()\n",
    "\n",
    "    ax = figure.add_subplot(231, projection='3d')\n",
    "    spectral_entropy = spectral_entropy_of_encoder_pullback(model,dataloader)\n",
    "    ax.scatter(D[:,0],D[:,1],D[:,2],c=spectral_entropy)\n",
    "    ax.set_title(\"Spectral Entropy\")\n",
    "\n",
    "    ax = figure.add_subplot(232, projection='3d')\n",
    "    trace = trace_of_encoder_pullback(model,dataloader)\n",
    "    ax.scatter(D[:,0],D[:,1],D[:,2],c=trace)\n",
    "    ax.set_title(\"Trace\")\n",
    "\n",
    "    ax = figure.add_subplot(233, projection='3d')\n",
    "    rank = rank_of_encoder_pullback(model,dataloader)\n",
    "    ax.scatter(D[:,0],D[:,1],D[:,2],c=rank)\n",
    "    ax.set_title(\"Rank\")\n",
    "    \n",
    "    evals = evals_of_encoder_pullback(model, dataloader)\n",
    "    for i in range(3):\n",
    "        ax = figure.add_subplot(230+i+4, projection='3d')\n",
    "        ax.scatter(D[:,0],D[:,1],D[:,2],c=evals[:,i])\n",
    "        ax.set_title(f\"{printnum(i)} Eigenvalue\")\n",
    "    \n",
    "    figure.suptitle(title)\n",
    "    plt.show()"
   ]
  },
  {
   "cell_type": "markdown",
   "metadata": {},
   "source": [
    "# Decoder Analysis"
   ]
  },
  {
   "cell_type": "markdown",
   "metadata": {},
   "source": [
    "## Indicatrices\n",
    "Defined as the set of embedding points mapping to a unit sphere, the indicatrices indicate directions and degrees of local distortion.\n",
    "\n",
    "Mathematically, they are simply the preimages of the unit spheres in the ambient space through the immersion (decoder)."
   ]
  },
  {
   "cell_type": "code",
   "execution_count": null,
   "metadata": {},
   "outputs": [
    {
     "name": "stderr",
     "output_type": "stream",
     "text": [
      "INFO: Using numpy backend\n"
     ]
    }
   ],
   "source": [
    "#|export\n",
    "from autometric.utils import *\n",
    "from autometric.connections import LeviCivitaConnection\n",
    "from autometric.metrics import PullbackMetric\n",
    "from autometric.manifolds import RiemannianManifold\n",
    "from matplotlib import pyplot as plt\n",
    "from matplotlib.collections import PatchCollection\n",
    "from matplotlib.patches import Polygon\n",
    "\n",
    "# Adapted from the Geometric Autoencoder codebase (see metrics.py)\n",
    "def plot_indicatrices(\n",
    "                    model,\n",
    "                    dataloader,\n",
    "                    grid=\"convex_hull\",\n",
    "                    device=\"cpu\",\n",
    "                    num_steps=20,\n",
    "                    num_gon=50,\n",
    "                    output_path=None,\n",
    "                    writer=None,\n",
    "                    latent_activations=None,\n",
    "                    model_name=\"GeomReg\",\n",
    "                    dataset_name=\"MNIST\",\n",
    "                    labels=None,\n",
    "                    cmap=\"tab10\",\n",
    "                    just_on_data = False,\n",
    "                    scaling_factor = 1/4\n",
    "                    ):\n",
    "    if latent_activations is None:\n",
    "        pointcloud = dataloader.dataset.pointcloud\n",
    "        try:\n",
    "            latent_activations = model.encoder(dataloader.dataset.pointcloud).cpu().detach()\n",
    "        except AttributeError:\n",
    "            latent_activations = model.encode(dataloader.dataset.pointcloud).cpu().detach()\n",
    "    if labels is None:\n",
    "        labels = torch.zeros(pointcloud.shape[0])\n",
    "\n",
    "    generator = torch.Generator().manual_seed(0)\n",
    "    perm = torch.randperm(labels.shape[0], generator=generator)\n",
    "    \n",
    "    latent_activations = latent_activations[perm]\n",
    "    labels = labels[perm]\n",
    "\n",
    "    coordinates_on_data = get_coordinates(torch.squeeze(latent_activations),\n",
    "                                          grid=\"on_data\",\n",
    "                                          num_steps=num_steps,\n",
    "                                          coords0=None,\n",
    "                                          dataset_name=dataset_name,\n",
    "                                          model_name=model_name).to(device)\n",
    "\n",
    "    coordinates_off_data = get_coordinates(torch.squeeze(latent_activations),\n",
    "                                           grid=\"off_data\",\n",
    "                                           num_steps=num_steps,\n",
    "                                           coords0=None,\n",
    "                                           dataset_name=dataset_name,\n",
    "                                           model_name=model_name).to(device)\n",
    "\n",
    "    if just_on_data:\n",
    "        coordinates = coordinates_on_data\n",
    "    else:\n",
    "        coordinates = torch.vstack([coordinates_on_data, coordinates_off_data])\n",
    "\n",
    "    # calculate grid step sizes\n",
    "    x_min = torch.min(latent_activations[:, 0]).item()\n",
    "    x_max = torch.max(latent_activations[:, 0]).item()\n",
    "    y_min = torch.min(latent_activations[:, 1]).item()\n",
    "    y_max = torch.max(latent_activations[:, 1]).item()\n",
    "\n",
    "    num_steps_x = num_steps\n",
    "    num_steps_y = int((y_max - y_min) / (x_max - x_min) * num_steps_x)\n",
    "\n",
    "    step_size_x = (x_max - x_min) / (num_steps_x)\n",
    "    step_size_y = (y_max - y_min) / (num_steps_y)\n",
    "    stepsize = min(step_size_x, step_size_y)\n",
    "\n",
    "    # # find initial coordinate\n",
    "    # if coords0 is not None:\n",
    "    #     coords0_index = None\n",
    "    #     for i, row in enumerate(coordinates.cpu()):\n",
    "    #         if torch.all(row.eq(coords0)):\n",
    "    #             coords0_index = i\n",
    "    coords0_index = 0\n",
    "    coords0 = latent_activations[0]\n",
    "\n",
    "    # initialize diffgeo objects\n",
    "    # TODO: Equip for arbitrary dimensions\n",
    "    pbm = PullbackMetric(2, model.decoder)\n",
    "    lcc = LeviCivitaConnection(2, pbm)\n",
    "    rm = RiemannianManifold(2, (1, 1), metric=pbm, connection=lcc)\n",
    "\n",
    "    # generate vector patches at grid points, normed in pullback metric\n",
    "    try:\n",
    "        vector_patches, norm_vectors = rm.generate_unit_vectors(num_gon, coordinates)\n",
    "    except RuntimeError:\n",
    "        vector_patches, norm_vectors = rm.generate_unit_vectors(num_gon, coordinates.unsqueeze(-1).unsqueeze(-1))\n",
    "\n",
    "    vector_patches = vector_patches.to(device)\n",
    "\n",
    "    vector_norms = torch.linalg.norm(vector_patches.reshape\n",
    "                                     (-1, 2), dim=1)\n",
    "    max_vector_norm = torch.min(vector_norms[torch.nonzero(vector_norms)])\n",
    "\n",
    "    normed_vector_patches = vector_patches / max_vector_norm * stepsize * scaling_factor  # / 3\n",
    "    anchored_vector_patches = coordinates.unsqueeze(1).expand(*normed_vector_patches.shape) + normed_vector_patches\n",
    "\n",
    "    # create polygons\n",
    "    polygons = [Polygon(tuple(vector.tolist()), closed=True) for vector in anchored_vector_patches]\n",
    "\n",
    "    polygons_on_data = polygons[:coordinates_on_data.shape[0]]\n",
    "    polygons_off_data = polygons[coordinates_on_data.shape[0]:]\n",
    "\n",
    "\n",
    "    if coords0 is not None:\n",
    "        polygon0 = polygons.pop(coords0_index)\n",
    "\n",
    "    \"\"\"\n",
    "    Plotting\n",
    "    \"\"\"\n",
    "    \n",
    "    latent_activations = latent_activations.detach().cpu()\n",
    "\n",
    "    # plot blobs\n",
    "    fig, ax = plt.subplots(figsize=(5, 5))\n",
    "\n",
    "    ax.set_aspect(\"equal\")\n",
    "    ax.axis(\"off\")\n",
    "    fig.tight_layout(pad=0.)\n",
    "    plt.margins(0.01, 0.01)\n",
    "\n",
    "    ax.scatter(latent_activations[:, 0],\n",
    "               latent_activations[:, 1],\n",
    "               c=labels,\n",
    "               cmap=cmap,\n",
    "               **get_sc_kwargs())\n",
    "\n",
    "    p_on_data = PatchCollection(polygons_on_data)\n",
    "    p_off_data = PatchCollection(polygons_off_data)\n",
    "    # p2 = PatchCollection(polygons2)\n",
    "\n",
    "    # p_off_data.set_edgecolor([0 / 255, 0 / 255, 0 / 255, 0.2])\n",
    "    # if model_name == \"Vanilla\" and dataset_name == \"Zilionis\":\n",
    "    #    p_off_data.set_facecolor([0 / 255, 0 / 255, 0 / 255, 0.0])\n",
    "    # else:\n",
    "    #    p_off_data.set_facecolor([0 / 255, 0 / 255, 0 / 255, 0.2])\n",
    "\n",
    "    p_on_data.set_color([0 / 255, 0 / 255, 0 / 255, 0.3])\n",
    "    p_off_data.set_color([0 / 255, 0 / 255, 0 / 255, 0.3])\n",
    "\n",
    "    if coords0 is not None:\n",
    "        polygon0.set_color([255 / 255, 0 / 255, 0 / 255, 0.2])\n",
    "        ax.add_patch(polygon0)\n",
    "\n",
    "    ax.add_collection(p_off_data)\n",
    "    ax.add_collection(p_on_data)\n",
    "    ax.set_aspect(\"equal\")\n",
    "    ax.axis(\"off\")\n",
    "    # fig.suptitle(f\"Indicatrices\")\n",
    "\n",
    "    if output_path is not None:\n",
    "        plt.savefig(output_path, **get_saving_kwargs())\n",
    "\n",
    "    plt.show()\n",
    "\n",
    "    if writer is not None:\n",
    "        writer.add_figure(\"indicatrix\", fig)\n",
    "\n",
    "        # clean up tensorboard writer\n",
    "        writer.flush()\n",
    "        writer.close()"
   ]
  },
  {
   "cell_type": "markdown",
   "metadata": {},
   "source": [
    "Testing the above"
   ]
  },
  {
   "cell_type": "code",
   "execution_count": null,
   "metadata": {},
   "outputs": [],
   "source": [
    "# instantiate a pytorch lightning trainer and train DerrickTheAutoencoder on the sphere dataset\n",
    "from pytorch_lightning import Trainer\n",
    "from pytorch_lightning.callbacks import EarlyStopping\n",
    "import torch\n",
    "from autometric.autoencoders import DerrickTheAutoencoder\n",
    "import os\n",
    "from autometric.datasets import PointcloudDataset\n",
    "\n",
    "from diffusion_curvature.datasets import sphere, torus"
   ]
  },
  {
   "cell_type": "code",
   "execution_count": null,
   "metadata": {},
   "outputs": [
    {
     "name": "stderr",
     "output_type": "stream",
     "text": [
      "Trainer will use only 1 of 2 GPUs because it is running inside an interactive / notebook environment. You may try to set `Trainer(devices=2)` but please note that multi-GPU inside interactive / notebook environments is considered experimental and unstable. Your mileage may vary.\n",
      "GPU available: True (cuda), used: True\n",
      "TPU available: False, using: 0 TPU cores\n",
      "IPU available: False, using: 0 IPUs\n",
      "HPU available: False, using: 0 HPUs\n"
     ]
    }
   ],
   "source": [
    "early_stopping = EarlyStopping('val_loss', patience=500)\n",
    "trainer = Trainer(max_epochs=1000, \n",
    "                #   accelerator='cuda',\n",
    "                  callbacks=[early_stopping])\n",
    "model = DerrickTheAutoencoder(input_dim=3, intrinsic_dimension=2)\n",
    "# check if model alreaady exists at ../data/sphere_encoder.pt - if so, load it\n",
    "if os.path.exists('../data/sphere_encoder.pt'):\n",
    "    model.load_state_dict(torch.load('../data/sphere_encoder.pt'))\n",
    "else:\n",
    "    trainer.fit(\n",
    "        model=model,\n",
    "        train_dataloaders=trainloader,\n",
    "        val_dataloaders=valloader\n",
    "    )"
   ]
  },
  {
   "cell_type": "code",
   "execution_count": null,
   "metadata": {},
   "outputs": [],
   "source": [
    "X_sphere, ks_sphere = sphere(n=10000)\n",
    "train_dataset = PointcloudDataset(X_sphere)\n",
    "trainloader = torch.utils.data.DataLoader(train_dataset, batch_size=32, shuffle=True)"
   ]
  },
  {
   "cell_type": "code",
   "execution_count": null,
   "metadata": {},
   "outputs": [
    {
     "name": "stderr",
     "output_type": "stream",
     "text": [
      "/home/piriac/mambaforge/envs/autometric/lib/python3.11/site-packages/torch/_functorch/deprecated.py:88: UserWarning: We've integrated functorch into PyTorch. As the final step of the integration, functorch.jacfwd is deprecated as of PyTorch 2.0 and will be deleted in a future version of PyTorch >= 2.3. Please use torch.func.jacfwd instead; see the PyTorch 2.0 release notes and/or the torch.func migration guide for more details https://pytorch.org/docs/master/func.migrating.html\n",
      "  warn_deprecated('jacfwd')\n",
      "/home/piriac/mambaforge/envs/autometric/lib/python3.11/site-packages/torch/_functorch/deprecated.py:61: UserWarning: We've integrated functorch into PyTorch. As the final step of the integration, functorch.vmap is deprecated as of PyTorch 2.0 and will be deleted in a future version of PyTorch >= 2.3. Please use torch.vmap instead; see the PyTorch 2.0 release notes and/or the torch.func migration guide for more details https://pytorch.org/docs/master/func.migrating.html\n",
      "  warn_deprecated('vmap', 'torch.vmap')\n"
     ]
    },
    {
     "data": {
      "image/png": "[encoded data removed]",
      "text/plain": [
       "<Figure size 500x500 with 1 Axes>"
      ]
     },
     "metadata": {},
     "output_type": "display_data"
    }
   ],
   "source": [
    "plot_indicatrices(model, trainloader, labels = ks_sphere, scaling_factor=1/40, just_on_data=True)"
   ]
  },
  {
   "cell_type": "markdown",
   "metadata": {},
   "source": [
    "## Fred Herschel's Indicatrix Volume Variance Metric\n",
    "\n",
    "Measures the change in indicatrix volume across the manifold."
   ]
  },
  {
   "cell_type": "code",
   "execution_count": null,
   "metadata": {},
   "outputs": [],
   "source": [
    "#|export\n",
    "def indicatrix_volume_variance_metric(\n",
    "    model,\n",
    "    dataloader,\n",
    "):\n",
    "    try:\n",
    "        pointcloud = dataloader.dataset.pointcloud\n",
    "    except AttributeError:\n",
    "        pointcloud = dataloader.dataset.X\n",
    "    try:\n",
    "        latent_activations = model.encoder(pointcloud).cpu().detach()\n",
    "    except AttributeError:\n",
    "        latent_activations = model.encode(pointcloud).cpu().detach()\n",
    "    \n",
    "    # set up manifold\n",
    "    pbm = PullbackMetric(2, model.decoder)\n",
    "    lcc = LeviCivitaConnection(2, pbm)\n",
    "    rm = RiemannianManifold(2, (1, 1), metric=pbm, connection=lcc)\n",
    "    # calculate the logarithm of the generalized jacobian determinant\n",
    "    log_dets = rm.metric_logdet(base_point=latent_activations)\n",
    "    # replace nan values with a small number\n",
    "    #EPSILON = 1e-9\n",
    "    #torch.nan_to_num(log_dets, nan=EPSILON, posinf=EPSILON, neginf=EPSILON)\n",
    "    torch.nan_to_num(log_dets, nan=1., posinf=1., neginf=1.) # ?? TODO Investigate replacement of eps by 1\n",
    "    # calculate the variance of the logarithm of the generalized jacobian determinant\n",
    "    raw_loss = torch.var(log_dets)\n",
    "    return raw_loss"
   ]
  },
  {
   "cell_type": "code",
   "execution_count": null,
   "metadata": {},
   "outputs": [
    {
     "data": {
      "text/plain": [
       "tensor(9.5034, grad_fn=<VarBackward0>)"
      ]
     },
     "execution_count": null,
     "metadata": {},
     "output_type": "execute_result"
    }
   ],
   "source": [
    "indicatrix_volume_variance_metric(model, trainloader)"
   ]
  },
  {
   "cell_type": "markdown",
   "metadata": {},
   "source": [
    "## A Frequency of Volume Variance Metric\n",
    "\n",
    "Like the above, but allows for variance in volume at low frequencies by comparing changes across an embedded graph of points.\n",
    "We reason that what most distorts embeddings is high-frequency changes in volume scaling."
   ]
  },
  {
   "cell_type": "code",
   "execution_count": null,
   "metadata": {},
   "outputs": [
    {
     "ename": "ModuleNotFoundError",
     "evalue": "No module named 'pygsp'",
     "output_type": "error",
     "traceback": [
      "\u001b[0;31m---------------------------------------------------------------------------\u001b[0m",
      "\u001b[0;31mModuleNotFoundError\u001b[0m                       Traceback (most recent call last)",
      "Cell \u001b[0;32mIn[1], line 2\u001b[0m\n\u001b[1;32m      1\u001b[0m \u001b[38;5;66;03m#|export\u001b[39;00m\n\u001b[0;32m----> 2\u001b[0m \u001b[38;5;28;01mimport\u001b[39;00m \u001b[38;5;21;01mpygsp\u001b[39;00m\n\u001b[1;32m      3\u001b[0m \u001b[38;5;66;03m#| export\u001b[39;00m\n\u001b[1;32m      4\u001b[0m \u001b[38;5;28;01mimport\u001b[39;00m \u001b[38;5;21;01mnumpy\u001b[39;00m \u001b[38;5;28;01mas\u001b[39;00m \u001b[38;5;21;01mnp\u001b[39;00m\n",
      "\u001b[0;31mModuleNotFoundError\u001b[0m: No module named 'pygsp'"
     ]
    }
   ],
   "source": [
    "#|export\n",
    "import pygsp\n",
    "#| export\n",
    "import numpy as np\n",
    "from sklearn.metrics import pairwise_distances\n",
    "\n",
    "def median_heuristic(\n",
    "        D:np.ndarray, # the distance matrix\n",
    "):\n",
    "    # estimate kernel bandwidth from distance matrix using the median heuristic\n",
    "    # Get upper triangle from distance matrix (ignoring duplicates)\n",
    "    h = D[np.triu_indices_from(D)]\n",
    "    h = h**2\n",
    "    h = np.median(h)\n",
    "    nu = np.sqrt(h / 2)\n",
    "    return nu\n",
    "\n",
    "def gaussian_kernel(\n",
    "        X:np.ndarray, # pointcloud data as rows, shape n x d\n",
    "        kernel_type = \"fixed\", # either fixed, or adaptive\n",
    "        sigma:float = 0, # if fixed, uses kernel bandwidth sigma. If not set, uses a heuristic to estimate a good sigma value\n",
    "        k:float = 10, # if adaptive, creates a different kernel bandwidth for each point, based on the distance from that point to the kth nearest neighbor\n",
    "        anisotropic_density_normalization:float = 0.5, # if nonzero, performs anisotropic density normalization\n",
    "        threshold_for_small_values:float = 1e-5, # Sets all affinities below this value to zero. Set to zero to disable.\n",
    "):\n",
    "    \"\"\"Constructs an affinity matrix from pointcloud data, using a gaussian kernel\"\"\"\n",
    "    supported_kernel_types = {'fixed', 'adaptive'}\n",
    "    assert kernel_type in supported_kernel_types\n",
    "    D = pairwise_distances(X)\n",
    "    if kernel_type == \"fixed\":\n",
    "            if not sigma:\n",
    "                # estimate sigma using a heuristic\n",
    "                sigma = median_heuristic(D)\n",
    "            W = (1/(sigma*np.sqrt(2*np.pi)))*np.exp((-D**2)/(2*sigma**2))\n",
    "    elif kernel_type == \"adaptive\":\n",
    "            distance_to_k_neighbor = np.partition(D,k)[:,k]\n",
    "            # Populate matrices with this distance for easy division.\n",
    "            div1 = np.ones(len(D))[:,None] @ distance_to_k_neighbor[None,:]\n",
    "            div2 = distance_to_k_neighbor[:,None] @ np.ones(len(D))[None,:]\n",
    "            # print(\"Distance to kth neighbors\",distance_to_k_neighbor)\n",
    "            # compute the gaussian kernel with an adaptive bandwidth\n",
    "            W = (1/(2*np.sqrt(2*np.pi)))*(np.exp(-D**2/(2*div1**2))/div1 + np.exp(-D**2/(2*div2**2))/div2)\n",
    "    if anisotropic_density_normalization:\n",
    "        D = np.diag(1/(np.sum(W,axis=1)**anisotropic_density_normalization))\n",
    "        W = D @ W @ D\n",
    "    if threshold_for_small_values:\n",
    "        W[W < threshold_for_small_values] = 0\n",
    "    return W\n",
    "\n",
    "\n",
    "def frequency_of_volume_variance(\n",
    "    model,\n",
    "    dataloader,\n",
    "    k=5, # k-nn graph\n",
    "    alpha=1, # degree of anisotropic density normalization\n",
    "):\n",
    "    try:\n",
    "        pointcloud = dataloader.dataset.pointcloud\n",
    "    except AttributeError:\n",
    "        pointcloud = dataloader.dataset.X\n",
    "    try:\n",
    "        latent_activations = model.encoder(pointcloud).cpu().detach()\n",
    "    except AttributeError:\n",
    "        latent_activations = model.encode(pointcloud).cpu().detach()\n",
    "    \n",
    "    # construct a graph out of these latent_activations\n",
    "    W = gaussian_kernel(\n",
    "        latent_activations.numpy(),\n",
    "        kernel_type='adaptive',\n",
    "        k = k,\n",
    "        anisotropic_density_normalization = alpha,\n",
    "    )\n",
    "    G = pygsp.graphs.Graph(W)\n",
    "    \n",
    "    # set up manifold\n",
    "    pbm = PullbackMetric(2, model.decoder)\n",
    "    lcc = LeviCivitaConnection(2, pbm)\n",
    "    rm = RiemannianManifold(2, (1, 1), metric=pbm, connection=lcc)\n",
    "    # calculate the logarithm of the generalized jacobian determinant\n",
    "    log_dets = rm.metric_logdet(base_point=latent_activations)\n",
    "    # replace nan values with a small number\n",
    "    EPSILON = 1e-9\n",
    "    torch.nan_to_num(log_dets, nan=EPSILON, posinf=EPSILON, neginf=EPSILON)\n",
    "    log_dets = log_dets.detach().cpu().numpy()\n",
    "\n",
    "    # compute quadric form of laplacian\n",
    "    quadric_form = log_dets @ G.L @ log_dets.T\n",
    "    return quadric_form"
   ]
  },
  {
   "cell_type": "code",
   "execution_count": null,
   "metadata": {},
   "outputs": [
    {
     "name": "stderr",
     "output_type": "stream",
     "text": [
      "2024-03-05 16:14:19,965:[WARNING](pygsp.graphs.graph.check_weights): The main diagonal of the weight matrix is not 0!\n",
      "WARNING: The main diagonal of the weight matrix is not 0!\n",
      "/home/piriac/mambaforge/envs/autometric/lib/python3.11/site-packages/torch/_functorch/deprecated.py:88: UserWarning: We've integrated functorch into PyTorch. As the final step of the integration, functorch.jacfwd is deprecated as of PyTorch 2.0 and will be deleted in a future version of PyTorch >= 2.3. Please use torch.func.jacfwd instead; see the PyTorch 2.0 release notes and/or the torch.func migration guide for more details https://pytorch.org/docs/master/func.migrating.html\n",
      "  warn_deprecated('jacfwd')\n",
      "/home/piriac/mambaforge/envs/autometric/lib/python3.11/site-packages/torch/_functorch/deprecated.py:61: UserWarning: We've integrated functorch into PyTorch. As the final step of the integration, functorch.vmap is deprecated as of PyTorch 2.0 and will be deleted in a future version of PyTorch >= 2.3. Please use torch.vmap instead; see the PyTorch 2.0 release notes and/or the torch.func migration guide for more details https://pytorch.org/docs/master/func.migrating.html\n",
      "  warn_deprecated('vmap', 'torch.vmap')\n"
     ]
    },
    {
     "data": {
      "text/plain": [
       "703.0060752803292"
      ]
     },
     "execution_count": null,
     "metadata": {},
     "output_type": "execute_result"
    }
   ],
   "source": [
    "frequency_of_volume_variance(model, trainloader)"
   ]
  },
  {
   "cell_type": "markdown",
   "metadata": {},
   "source": [
    "## Curvature Matching\n",
    "\n",
    "The above criteria use the pullback metric to measure how space is distorted by our decoder. \n",
    "If we have a dataset with a *known* metric, we can go further, and measure the preservation of that metric through decoding. The result indicates the fidelity of the decoder - how closely, and noiselessly, it reconstructs the original manifold.\n",
    "\n",
    "We start with a simple geometric quantity, amenable to point-wise comparison: the scalar curvature."
   ]
  },
  {
   "cell_type": "code",
   "execution_count": null,
   "metadata": {},
   "outputs": [],
   "source": [
    "#|export\n",
    "import torch.nn.functional as F\n",
    "import torch\n",
    "def curvature_matching_metric(model, dataloader, ground_truth_scalar_curvatures):\n",
    "    try:\n",
    "        pointcloud = dataloader.dataset.pointcloud\n",
    "    except AttributeError:\n",
    "        pointcloud = dataloader.dataset.X\n",
    "    try:\n",
    "        latent_activations = model.encoder(pointcloud).cpu().detach()\n",
    "    except AttributeError:\n",
    "        latent_activations = model.encode(pointcloud).cpu().detach()\n",
    "    \n",
    "    # set up manifold\n",
    "    pbm = PullbackMetric(2, model.decoder)\n",
    "    lcc = LeviCivitaConnection(2, pbm)\n",
    "    rm = RiemannianManifold(2, (1, 1), metric=pbm, connection=lcc)\n",
    "    # extract scalar curvatures\n",
    "    # the GeoAE group's scalar curvature function wasn't giving the right values, so here's my own. TODO: Test and replace their scalar curvature function with mine\n",
    "    scalar_curvatures = [rm.k_scalar_curvature(base_point = torch.tensor(latent_activations)[i]) for i in range(len(latent_activations))]\n",
    "    # TODO: Modify my scalar curv func to take multiple points\n",
    "\n",
    "    # compare curvatures\n",
    "    scalar_curvatures = torch.nn.functional.normalize(scalar_curvatures, p = 1)\n",
    "    ground_truth_scalar_curvatures = torch.nn.functional.normalize(ground_truth_curvatures, p=1)\n",
    "    mse = torch.nn.functional.mse_loss(scalar_curvatures, ground_truth_scalar_curvatures)\n",
    "    return mse"
   ]
  },
  {
   "cell_type": "code",
   "execution_count": null,
   "metadata": {},
   "outputs": [
    {
     "data": {
      "text/plain": [
       "tensor([-0.1437,  0.3868,  0.8721,  1.3766, -0.7427, -0.7208, -0.7491,  0.2128,\n",
       "        -0.5578,  0.0351])"
      ]
     },
     "execution_count": null,
     "metadata": {},
     "output_type": "execute_result"
    }
   ],
   "source": [
    "a = torch.randn(10)\n",
    "a"
   ]
  },
  {
   "cell_type": "code",
   "execution_count": null,
   "metadata": {},
   "outputs": [
    {
     "ename": "IndexError",
     "evalue": "Dimension out of range (expected to be in range of [-1, 0], but got 1)",
     "output_type": "error",
     "traceback": [
      "\u001b[0;31m---------------------------------------------------------------------------\u001b[0m",
      "\u001b[0;31mIndexError\u001b[0m                                Traceback (most recent call last)",
      "Cell \u001b[0;32mIn[5], line 1\u001b[0m\n\u001b[0;32m----> 1\u001b[0m \u001b[43mF\u001b[49m\u001b[38;5;241;43m.\u001b[39;49m\u001b[43mnormalize\u001b[49m\u001b[43m(\u001b[49m\u001b[43ma\u001b[49m\u001b[43m,\u001b[49m\u001b[43mp\u001b[49m\u001b[38;5;241;43m=\u001b[39;49m\u001b[38;5;241;43m1\u001b[39;49m\u001b[43m)\u001b[49m\n",
      "File \u001b[0;32m~/mambaforge/envs/autometric/lib/python3.11/site-packages/torch/nn/functional.py:4719\u001b[0m, in \u001b[0;36mnormalize\u001b[0;34m(input, p, dim, eps, out)\u001b[0m\n\u001b[1;32m   4717\u001b[0m     \u001b[38;5;28;01mreturn\u001b[39;00m handle_torch_function(normalize, (\u001b[38;5;28minput\u001b[39m, out), \u001b[38;5;28minput\u001b[39m, p\u001b[38;5;241m=\u001b[39mp, dim\u001b[38;5;241m=\u001b[39mdim, eps\u001b[38;5;241m=\u001b[39meps, out\u001b[38;5;241m=\u001b[39mout)\n\u001b[1;32m   4718\u001b[0m \u001b[38;5;28;01mif\u001b[39;00m out \u001b[38;5;129;01mis\u001b[39;00m \u001b[38;5;28;01mNone\u001b[39;00m:\n\u001b[0;32m-> 4719\u001b[0m     denom \u001b[38;5;241m=\u001b[39m \u001b[38;5;28;43minput\u001b[39;49m\u001b[38;5;241;43m.\u001b[39;49m\u001b[43mnorm\u001b[49m\u001b[43m(\u001b[49m\u001b[43mp\u001b[49m\u001b[43m,\u001b[49m\u001b[43m \u001b[49m\u001b[43mdim\u001b[49m\u001b[43m,\u001b[49m\u001b[43m \u001b[49m\u001b[43mkeepdim\u001b[49m\u001b[38;5;241;43m=\u001b[39;49m\u001b[38;5;28;43;01mTrue\u001b[39;49;00m\u001b[43m)\u001b[49m\u001b[38;5;241m.\u001b[39mclamp_min(eps)\u001b[38;5;241m.\u001b[39mexpand_as(\u001b[38;5;28minput\u001b[39m)\n\u001b[1;32m   4720\u001b[0m     \u001b[38;5;28;01mreturn\u001b[39;00m \u001b[38;5;28minput\u001b[39m \u001b[38;5;241m/\u001b[39m denom\n\u001b[1;32m   4721\u001b[0m \u001b[38;5;28;01melse\u001b[39;00m:\n",
      "File \u001b[0;32m~/mambaforge/envs/autometric/lib/python3.11/site-packages/torch/_tensor.py:708\u001b[0m, in \u001b[0;36mTensor.norm\u001b[0;34m(self, p, dim, keepdim, dtype)\u001b[0m\n\u001b[1;32m    704\u001b[0m \u001b[38;5;28;01mif\u001b[39;00m has_torch_function_unary(\u001b[38;5;28mself\u001b[39m):\n\u001b[1;32m    705\u001b[0m     \u001b[38;5;28;01mreturn\u001b[39;00m handle_torch_function(\n\u001b[1;32m    706\u001b[0m         Tensor\u001b[38;5;241m.\u001b[39mnorm, (\u001b[38;5;28mself\u001b[39m,), \u001b[38;5;28mself\u001b[39m, p\u001b[38;5;241m=\u001b[39mp, dim\u001b[38;5;241m=\u001b[39mdim, keepdim\u001b[38;5;241m=\u001b[39mkeepdim, dtype\u001b[38;5;241m=\u001b[39mdtype\n\u001b[1;32m    707\u001b[0m     )\n\u001b[0;32m--> 708\u001b[0m \u001b[38;5;28;01mreturn\u001b[39;00m \u001b[43mtorch\u001b[49m\u001b[38;5;241;43m.\u001b[39;49m\u001b[43mnorm\u001b[49m\u001b[43m(\u001b[49m\u001b[38;5;28;43mself\u001b[39;49m\u001b[43m,\u001b[49m\u001b[43m \u001b[49m\u001b[43mp\u001b[49m\u001b[43m,\u001b[49m\u001b[43m \u001b[49m\u001b[43mdim\u001b[49m\u001b[43m,\u001b[49m\u001b[43m \u001b[49m\u001b[43mkeepdim\u001b[49m\u001b[43m,\u001b[49m\u001b[43m \u001b[49m\u001b[43mdtype\u001b[49m\u001b[38;5;241;43m=\u001b[39;49m\u001b[43mdtype\u001b[49m\u001b[43m)\u001b[49m\n",
      "File \u001b[0;32m~/mambaforge/envs/autometric/lib/python3.11/site-packages/torch/functional.py:1611\u001b[0m, in \u001b[0;36mnorm\u001b[0;34m(input, p, dim, keepdim, out, dtype)\u001b[0m\n\u001b[1;32m   1609\u001b[0m _p \u001b[38;5;241m=\u001b[39m \u001b[38;5;241m2.0\u001b[39m \u001b[38;5;28;01mif\u001b[39;00m p \u001b[38;5;129;01mis\u001b[39;00m \u001b[38;5;28;01mNone\u001b[39;00m \u001b[38;5;28;01melse\u001b[39;00m p\n\u001b[1;32m   1610\u001b[0m \u001b[38;5;28;01mif\u001b[39;00m out \u001b[38;5;129;01mis\u001b[39;00m \u001b[38;5;28;01mNone\u001b[39;00m:\n\u001b[0;32m-> 1611\u001b[0m     \u001b[38;5;28;01mreturn\u001b[39;00m \u001b[43mtorch\u001b[49m\u001b[38;5;241;43m.\u001b[39;49m\u001b[43mlinalg\u001b[49m\u001b[38;5;241;43m.\u001b[39;49m\u001b[43mvector_norm\u001b[49m\u001b[43m(\u001b[49m\u001b[38;5;28;43minput\u001b[39;49m\u001b[43m,\u001b[49m\u001b[43m \u001b[49m\u001b[43m_p\u001b[49m\u001b[43m,\u001b[49m\u001b[43m \u001b[49m\u001b[43m_dim\u001b[49m\u001b[43m,\u001b[49m\u001b[43m \u001b[49m\u001b[43mkeepdim\u001b[49m\u001b[43m,\u001b[49m\u001b[43m \u001b[49m\u001b[43mdtype\u001b[49m\u001b[38;5;241;43m=\u001b[39;49m\u001b[43mdtype\u001b[49m\u001b[43m)\u001b[49m\n\u001b[1;32m   1612\u001b[0m \u001b[38;5;28;01melse\u001b[39;00m:\n\u001b[1;32m   1613\u001b[0m     \u001b[38;5;28;01mreturn\u001b[39;00m torch\u001b[38;5;241m.\u001b[39mlinalg\u001b[38;5;241m.\u001b[39mvector_norm(\u001b[38;5;28minput\u001b[39m, _p, _dim, keepdim, dtype\u001b[38;5;241m=\u001b[39mdtype, out\u001b[38;5;241m=\u001b[39mout)\n",
      "\u001b[0;31mIndexError\u001b[0m: Dimension out of range (expected to be in range of [-1, 0], but got 1)"
     ]
    }
   ],
   "source": [
    "F.normalize(a,p=1)"
   ]
  },
  {
   "cell_type": "code",
   "execution_count": null,
   "metadata": {},
   "outputs": [],
   "source": [
    "%notebook save\n",
    "!nbdev_export"
   ]
  },
  {
   "cell_type": "code",
   "execution_count": null,
   "metadata": {},
   "outputs": [],
   "source": []
  }
 ],
 "metadata": {
  "kernelspec": {
   "display_name": "autometric",
   "language": "python",
   "name": "autometric"
  }
 },
 "nbformat": 4,
 "nbformat_minor": 4
}
