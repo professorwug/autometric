{
 "cells": [
  {
   "cell_type": "code",
   "execution_count": null,
   "metadata": {},
   "outputs": [],
   "source": [
    "#|default_exp n1d_embedding_analysis\n",
    "import numpy as np\n",
    "import matplotlib.pyplot as plt\n",
    "import deepdish\n",
    "\n",
    "import os\n",
    "os.environ[\"GEOMSTATS_BACKEND\"] = \"pytorch\"\n",
    "\n",
    "# models\n",
    "import torch\n",
    "from autometric.autoencoders import DistanceMatchingAutoencoder\n",
    "from autometric.datasets import *\n",
    "\n",
    "device = torch.device(\"cuda:0\" if torch.cuda.is_available() else \"cpu\")\n",
    "\n",
    "%load_ext autoreload\n",
    "%autoreload 2"
   ]
  },
  {
   "cell_type": "markdown",
   "metadata": {},
   "source": [
    "# 1d Embedding Analysis"
   ]
  },
  {
   "cell_type": "markdown",
   "metadata": {},
   "source": [
    "What can the autometrics tell us? This goes to the heart of the project - and, in this notebook, we develop the tools based on the metrics."
   ]
  },
  {
   "cell_type": "markdown",
   "metadata": {},
   "source": [
    "## Eigenvalues of the Metric\n",
    "\n",
    "Each eigenvalue represents the degree of preservation applied to each direction in the ambient space under the embedding, where $1$ is total preservation, and $0.1$ means it's being compressed by a factor of 10. "
   ]
  },
  {
   "cell_type": "code",
   "execution_count": null,
   "metadata": {},
   "outputs": [
    {
     "name": "stderr",
     "output_type": "stream",
     "text": [
      "INFO: Using pytorch backend\n"
     ]
    }
   ],
   "source": [
    "#|export\n",
    "from autometric.metrics import PullbackMetric\n",
    "import numpy as np\n",
    "import torch\n",
    "def determinants_of_encoder_pullback(model, dataloader):\n",
    "    # returns the determinants of the metric matrices for each point in the dataset\n",
    "    Metric = PullbackMetric(model.input_dim, model.encoder)\n",
    "    Gs = Metric.metric_matrix(dataloader.dataset.pointcloud).detach().cpu().numpy()\n",
    "    dets = [np.linalg.det(G) for G in Gs]\n",
    "    return np.array(dets)"
   ]
  },
  {
   "cell_type": "code",
   "execution_count": null,
   "metadata": {},
   "outputs": [],
   "source": [
    "#|export\n",
    "from autometric.metrics import PullbackMetric\n",
    "import numpy as np\n",
    "import torch\n",
    "def trace_of_encoder_pullback(model, dataloader):\n",
    "    # returns the determinants of the metric matrices for each point in the dataset\n",
    "    Metric = PullbackMetric(model.input_dim, model.encoder)\n",
    "    Gs = Metric.metric_matrix(dataloader.dataset.pointcloud).detach().cpu().numpy()\n",
    "    dets = [np.sum(np.linalg.eigvals(G)) for G in Gs]\n",
    "    return np.array(dets)"
   ]
  },
  {
   "cell_type": "code",
   "execution_count": null,
   "metadata": {},
   "outputs": [],
   "source": [
    "#|export\n",
    "from autometric.metrics import PullbackMetric\n",
    "import numpy as np\n",
    "import torch\n",
    "def rank_of_encoder_pullback(model, dataloader, eps=1e-10):\n",
    "    # returns the determinants of the metric matrices for each point in the dataset\n",
    "    Metric = PullbackMetric(model.input_dim, model.encoder)\n",
    "    Gs = Metric.metric_matrix(dataloader.dataset.pointcloud).detach().cpu().numpy()\n",
    "    ranks = [np.sum((np.linalg.eigvals(G)>eps).astype(int)) for G in Gs]\n",
    "    return np.array(ranks)"
   ]
  },
  {
   "cell_type": "code",
   "execution_count": null,
   "metadata": {},
   "outputs": [],
   "source": [
    "#|export\n",
    "from autometric.metrics import PullbackMetric\n",
    "import numpy as np\n",
    "import torch\n",
    "def spectral_entropy_of_matrix(A):\n",
    "    # returns the spectral entropy of a matrix\n",
    "    # A is a numpy array\n",
    "    eigvals = np.linalg.eigvals(A)\n",
    "    eigvals = eigvals[eigvals > 0]\n",
    "    eigvals /= eigvals.sum()\n",
    "    return -np.sum(eigvals * np.log(eigvals))\n",
    "\n",
    "def spectral_entropy_of_encoder_pullback(model, dataloader):\n",
    "    # returns the determinants of the metric matrices for each point in the dataset\n",
    "    Metric = PullbackMetric(model.input_dim, model.encoder)\n",
    "    Gs = Metric.metric_matrix(dataloader.dataset.pointcloud).detach().cpu().numpy()\n",
    "    entropies = [spectral_entropy_of_matrix(G) for G in Gs]\n",
    "    return np.array(entropies)"
   ]
  },
  {
   "cell_type": "code",
   "execution_count": null,
   "metadata": {},
   "outputs": [],
   "source": [
    "#|export\n",
    "def evals_of_encoder_pullback(model, dataloader):\n",
    "    # returns the determinants of the metric matrices for each point in the dataset\n",
    "    Metric = PullbackMetric(model.input_dim, model.encoder)\n",
    "    Gs = Metric.metric_matrix(dataloader.dataset.pointcloud).detach().cpu().numpy()\n",
    "    e = [np.sort(np.linalg.eigvals(G))[::-1] for G in Gs]\n",
    "    return np.vstack(e)"
   ]
  },
  {
   "cell_type": "code",
   "execution_count": null,
   "metadata": {},
   "outputs": [],
   "source": [
    "#|export\n",
    "def smallest_eigenvector(matrix):\n",
    "    \"\"\"\n",
    "    Find the eigenvector associated with the smallest eigenvalue of a square matrix.\n",
    "\n",
    "    Args:\n",
    "        matrix (np.array): A square numpy array representing a matrix.\n",
    "\n",
    "    Returns:\n",
    "        np.array: The eigenvector associated with the smallest eigenvalue.\n",
    "    \"\"\"\n",
    "    # Compute eigenvalues and eigenvectors\n",
    "    eigenvalues, eigenvectors = np.linalg.eig(matrix)\n",
    "\n",
    "    # Find the index of the smallest eigenvalue\n",
    "    min_index = np.argmin(eigenvalues)\n",
    "\n",
    "    # Return the corresponding eigenvector\n",
    "    return eigenvectors[:, min_index]\n",
    "def normal_vectors_of_encoder_pullback(model, dataloader):\n",
    "    # returns the determinants of the metric matrices for each point in the dataset\n",
    "    Metric = PullbackMetric(model.input_dim, model.encoder)\n",
    "    Gs = Metric.metric_matrix(dataloader.dataset.pointcloud).detach().cpu().numpy()\n",
    "    e = [smallest_eigenvector(G) for G in Gs]\n",
    "    return np.vstack(e)"
   ]
  },
  {
   "cell_type": "markdown",
   "metadata": {},
   "source": [
    "We'll wrap all of these metrics into a convenient form so they can be run en-masse on a single model, without having to specify each of them."
   ]
  },
  {
   "cell_type": "code",
   "execution_count": null,
   "metadata": {},
   "outputs": [],
   "source": [
    "#|export\n",
    "import matplotlib.pyplot as plt\n",
    "import numpy\n",
    "from autometric.utils import *\n",
    "from mpl_toolkits.mplot3d import Axes3D\n",
    "\n",
    "def visualize_encoder_pullback_metrics(model, dataloader, title):\n",
    "    X = model.encoder(dataloader.dataset.pointcloud).cpu().detach().numpy()\n",
    "    fig, axs = plt.subplots(2, 3, figsize=(12, 8))\n",
    "\n",
    "    spectral_entropy = spectral_entropy_of_encoder_pullback(model,dataloader)\n",
    "    axs[0,0].scatter(X[:,0],X[:,1],c=spectral_entropy)\n",
    "    axs[0,0].set_title(\"Spectral Entropy\")\n",
    "\n",
    "    trace = trace_of_encoder_pullback(model,dataloader)\n",
    "    axs[0,1].scatter(X[:,0],X[:,1],c=trace)\n",
    "    axs[0,1].set_title(\"Trace\")\n",
    "\n",
    "    rank = rank_of_encoder_pullback(model,dataloader)\n",
    "    axs[0,2].scatter(X[:,0],X[:,1],c=rank)\n",
    "    axs[0,2].set_title(\"Rank\")\n",
    "    \n",
    "    evals = evals_of_encoder_pullback(model, dataloader)\n",
    "    for i in range(3):\n",
    "        axs[1,i].scatter(X[:,0],X[:,1],c=evals[:,i])\n",
    "        axs[1,i].set_title(f\"{printnum(i)} Eigenvalue\")\n",
    "    \n",
    "    fig.suptitle(title)\n",
    "    plt.tight_layout()\n",
    "    plt.show()"
   ]
  },
  {
   "cell_type": "code",
   "execution_count": null,
   "metadata": {},
   "outputs": [],
   "source": [
    "#|export\n",
    "import matplotlib.pyplot as plt\n",
    "import numpy\n",
    "from autometric.utils import *\n",
    "from mpl_toolkits.mplot3d import Axes3D\n",
    "\n",
    "def visualize_encoder_pullback_metrics_in_ambient_space(model, dataloader, title):\n",
    "    X = model.encoder(dataloader.dataset.pointcloud).cpu().detach().numpy()\n",
    "    D = dataloader.dataset.pointcloud.cpu().detach().numpy()\n",
    "    figure = plt.figure()\n",
    "\n",
    "    ax = figure.add_subplot(231, projection='3d')\n",
    "    spectral_entropy = spectral_entropy_of_encoder_pullback(model,dataloader)\n",
    "    ax.scatter(D[:,0],D[:,1],D[:,2],c=spectral_entropy)\n",
    "    ax.set_title(\"Spectral Entropy\")\n",
    "\n",
    "    ax = figure.add_subplot(232, projection='3d')\n",
    "    trace = trace_of_encoder_pullback(model,dataloader)\n",
    "    ax.scatter(D[:,0],D[:,1],D[:,2],c=trace)\n",
    "    ax.set_title(\"Trace\")\n",
    "\n",
    "    ax = figure.add_subplot(233, projection='3d')\n",
    "    rank = rank_of_encoder_pullback(model,dataloader)\n",
    "    ax.scatter(D[:,0],D[:,1],D[:,2],c=rank)\n",
    "    ax.set_title(\"Rank\")\n",
    "    \n",
    "    evals = evals_of_encoder_pullback(model, dataloader)\n",
    "    for i in range(3):\n",
    "        ax = figure.add_subplot(230+i+4, projection='3d')\n",
    "        ax.scatter(D[:,0],D[:,1],D[:,2],c=evals[:,i])\n",
    "        ax.set_title(f\"{printnum(i)} Eigenvalue\")\n",
    "    \n",
    "    figure.suptitle(title)\n",
    "    plt.show()"
   ]
  },
  {
   "cell_type": "code",
   "execution_count": null,
   "metadata": {},
   "outputs": [],
   "source": [
    "%notebook save\n",
    "!nbdev_export"
   ]
  },
  {
   "cell_type": "code",
   "execution_count": null,
   "metadata": {},
   "outputs": [],
   "source": []
  },
  {
   "cell_type": "code",
   "execution_count": null,
   "metadata": {},
   "outputs": [],
   "source": []
  }
 ],
 "metadata": {
  "kernelspec": {
   "display_name": "conda-env-autometric-py",
   "language": "python",
   "name": "conda-env-autometric-py"
  }
 },
 "nbformat": 4,
 "nbformat_minor": 4
}
