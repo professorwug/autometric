{
 "cells": [
  {
   "cell_type": "code",
   "execution_count": null,
   "metadata": {},
   "outputs": [],
   "source": [
    "#|default_exp utils\n",
    "import numpy as np\n",
    "import matplotlib.pyplot as plt\n",
    "import deepdish\n",
    "\n",
    "import os\n",
    "os.environ[\"GEOMSTATS_BACKEND\"] = \"pytorch\"\n",
    "\n",
    "# models\n",
    "import torch\n",
    "\n",
    "%load_ext autoreload\n",
    "%autoreload 2"
   ]
  },
  {
   "cell_type": "markdown",
   "metadata": {},
   "source": [
    "# 0u Utils"
   ]
  },
  {
   "cell_type": "code",
   "execution_count": null,
   "metadata": {},
   "outputs": [],
   "source": [
    "#|export\n",
    "import numpy as np\n",
    "import torch\n",
    "import matplotlib.pyplot as plt\n",
    "# visualize the latent embedding space of a pytorch model, colored by a given vector\n",
    "def visualize_embedding(\n",
    "    model,\n",
    "    dataloader,\n",
    "    colors=None,\n",
    "    title = \"Embedded Points\"\n",
    "):\n",
    "    if colors is None:\n",
    "        colors = np.zeros(len(dataloader.dataset))\n",
    "    model.eval()\n",
    "\n",
    "    embeddings = model.encoder(dataloader.dataset.pointcloud).cpu().detach().numpy()\n",
    "    \n",
    "    plt.figure(figsize=(10, 10))\n",
    "    plt.scatter(embeddings[:, 0], embeddings[:, 1], c=colors, cmap=\"viridis\")\n",
    "    plt.title(title)\n",
    "    plt.colorbar()\n",
    "    plt.show()"
   ]
  },
  {
   "cell_type": "code",
   "execution_count": null,
   "metadata": {},
   "outputs": [],
   "source": [
    "#|export\n",
    "def printnum(number):\n",
    "    suffixes = ['th', 'st', 'nd', 'rd', 'th', 'th', 'th', 'th', 'th', 'th']\n",
    "    if 10 <= number % 100 <= 20:\n",
    "        suffix = 'th'\n",
    "    else:\n",
    "        suffix = suffixes[number % 10]\n",
    "    return f\"{number}{suffix}\""
   ]
  },
  {
   "cell_type": "code",
   "execution_count": null,
   "metadata": {},
   "outputs": [],
   "source": [
    "%notebook save\n",
    "!nbdev_export"
   ]
  },
  {
   "cell_type": "code",
   "execution_count": null,
   "metadata": {},
   "outputs": [],
   "source": []
  }
 ],
 "metadata": {
  "kernelspec": {
   "display_name": "conda-env-autometric-py",
   "language": "python",
   "name": "conda-env-autometric-py"
  }
 },
 "nbformat": 4,
 "nbformat_minor": 4
}
