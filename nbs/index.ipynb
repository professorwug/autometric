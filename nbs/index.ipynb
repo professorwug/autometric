{
 "cells": [
  {
   "cell_type": "code",
   "execution_count": null,
   "metadata": {},
   "outputs": [],
   "source": [
    "#| hide\n",
    "from autometric.core import *"
   ]
  },
  {
   "cell_type": "markdown",
   "metadata": {},
   "source": [
    "# Autometric\n",
    "\n",
    "> Using autoencoders to learn pullback metrics, evaluate embedding fidelity, and extract geometric quantities from data."
   ]
  },
  {
   "cell_type": "markdown",
   "metadata": {},
   "source": [
    "This file will become your README and also the index of your documentation."
   ]
  },
  {
   "cell_type": "markdown",
   "metadata": {},
   "source": [
    "## Install (TODO)"
   ]
  },
  {
   "cell_type": "markdown",
   "metadata": {},
   "source": [
    "```sh\n",
    "pip install autometric\n",
    "```"
   ]
  },
  {
   "cell_type": "markdown",
   "metadata": {},
   "source": [
    "## How to use (TODO)"
   ]
  },
  {
   "cell_type": "markdown",
   "metadata": {},
   "source": [
    "Fill me in please! Don't forget code examples:"
   ]
  },
  {
   "cell_type": "code",
   "execution_count": null,
   "metadata": {},
   "outputs": [
    {
     "data": {
      "text/plain": [
       "2"
      ]
     },
     "execution_count": null,
     "metadata": {},
     "output_type": "execute_result"
    }
   ],
   "source": [
    "1+1"
   ]
  },
  {
   "cell_type": "markdown",
   "metadata": {},
   "source": [
    "# Development\n",
    "\n",
    "## Setup\n",
    "To prepare this project for local development, git clone it and create the conda (or mamba) environment:\n",
    "\n",
    "To initially create a conda environment for the project, run\n",
    "``` sh\n",
    "mamba env create -f env.yml\n",
    "```\n",
    "Then install the project itself with:\n",
    "\n",
    "``` sh\n",
    "pip install -e .\n",
    "```\n",
    "\n",
    "## Escaping Dependency Heck\n",
    "We've found conda/mamba to be the fastest, most reliable means of managing python dependencies. Pip just tends to fail. Poetry is a pain-in-the-behind when working with PyTorch, or any set of systems with different CUDA requirements. \n",
    "\n",
    "Using conda's `env.yml` files allows us to declaratively manage dependencies, and sync them between different systems with ease.\n",
    "\n",
    "To add new packages, you can `mamba install` it -- but it's better to install it declaratively by adding the package name to the env.yml file. There's even a section for packages that are only pip installable. \n",
    "After adding new dependencies to env.yml, run this to update the environment:\n",
    "```\n",
    "mamba env update -n autometric --file env.yml\n",
    "```\n",
    "\n",
    "\n",
    "## nbdev\n",
    "\n",
    "This proof-of-concept is literately programmed with [NBDev](nbdev.fast.ai). Each notebook implements one chunk of our pipeline, and is compiled into a python file in the `autometric` library. Many of these files can be run directly from the command line with arguments to, e.g. train a model.\n",
    "\n",
    "After modifying a notebook, run `nbdev_export` to overwrite the python files with changes from the notebooks.\n",
    "If you prefer, you can modify the python files and run `nbdev_sync` to propogate the changes back into the notebooks.\n",
    "\n",
    "``` sh\n",
    "# activate conda environment\n",
    "$ conda activate autometric\n",
    "\n",
    "# make changes under nbs/ directory\n",
    "# ...\n",
    "\n",
    "# then, before committing, run\n",
    "$ nbdev_export # to sync changes from notebooks to the python library\n",
    "$ nbdev_readme # to generate a new README from index.ipynb\n",
    "$ nbdev_test # to run all of the tests in your notebooks\n",
    "# or just run all of them at once with\n",
    "$ nbdev_prepare\n",
    "```\n",
    "\n",
    "### Publishing\n",
    "\n",
    "``` sh\n",
    "# publish to pypi\n",
    "$ nbdev_pypi\n",
    "\n",
    "# publish to conda\n",
    "$ nbdev_conda\n",
    "```"
   ]
  },
  {
   "cell_type": "markdown",
   "metadata": {},
   "source": []
  }
 ],
 "metadata": {
  "kernelspec": {
   "display_name": "python3",
   "language": "python",
   "name": "python3"
  }
 },
 "nbformat": 4,
 "nbformat_minor": 4
}
