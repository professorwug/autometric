{
 "cells": [
  {
   "cell_type": "markdown",
   "metadata": {},
   "source": [
    "# 1 Geometer's Delight\n",
    "> Pullback metrics and Riemannian calculations on Manifolds\n"
   ]
  },
  {
   "cell_type": "markdown",
   "metadata": {},
   "source": [
    "\n",
    "The code in this 1 series was loosely adapted from Fred Hamprecht's *Geometric Autoencoder* paper[1].\n",
    "\n",
    "[1] Nazari, P., Damrich, S., & Hamprecht, F. A. (2023). Geometric Autoencoders—What You See is What You Decode. Proceedings of the 40th International Conference on Machine Learning, 25834–25857. https://proceedings.mlr.press/v202/nazari23a.html\n"
   ]
  },
  {
   "cell_type": "markdown",
   "metadata": {},
   "source": []
  }
 ],
 "metadata": {},
 "nbformat": 4,
 "nbformat_minor": 2
}
