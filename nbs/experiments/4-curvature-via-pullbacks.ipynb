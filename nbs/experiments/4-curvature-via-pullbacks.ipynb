{
 "cells": [
  {
   "cell_type": "code",
   "execution_count": 2,
   "metadata": {},
   "outputs": [
    {
     "name": "stdout",
     "output_type": "stream",
     "text": [
      "The autoreload extension is already loaded. To reload it, use:\n",
      "  %reload_ext autoreload\n"
     ]
    }
   ],
   "source": [
    "## Standard libraries\n",
    "import os\n",
    "import math\n",
    "import numpy as np\n",
    "import time\n",
    "from fastcore.all import *\n",
    "from nbdev.showdoc import *\n",
    "\n",
    "# Configure environment\n",
    "os.environ['XLA_PYTHON_CLIENT_PREALLOCATE']='false' # Tells Jax not to hog all of the memory to this process.\n",
    "\n",
    "## Imports for plotting\n",
    "import matplotlib.pyplot as plt\n",
    "%matplotlib inline\n",
    "from IPython.display import set_matplotlib_formats\n",
    "# set_matplotlib_formats('svg', 'pdf') # For export\n",
    "from matplotlib.colors import to_rgba\n",
    "import seaborn as sns\n",
    "sns.set()\n",
    "\n",
    "## Progress bar\n",
    "from tqdm.auto import tqdm, trange\n",
    "\n",
    "import torch\n",
    "import autometric\n",
    "import dmae\n",
    "\n",
    "%load_ext autoreload\n",
    "%autoreload 2"
   ]
  },
  {
   "cell_type": "markdown",
   "metadata": {},
   "source": [
    "# Curvature via Pullback Metrics\n",
    "> How much does the metric give?"
   ]
  },
  {
   "cell_type": "markdown",
   "metadata": {},
   "source": [
    "A good test of a metric is whether it can accurately reconstruct a manifold's curvature. Here we try this with the pullback metrics from 1) the Off-Manifolder, and 2) our distance matching encoder.\n",
    "\n",
    "Neither of these is a classic 'intrinsic' metric for anything like intrinsic coords. Both will come from an embedding of the manifold in a dimension greater than its intrinsic dimension. The encoder pullback metric won't even have full rank. And the off-manifolder pullback starts from (e.g.) a hemisphere in 3d and wraps noise around the extra dimensions.\n",
    "\n",
    "What both metrics might nonetheless preserve is some sense of *placement* on the manifold. The Off-Manifolder has, built in, a notion of tangent and normal directions. The encoder pullback knows which directions are noise."
   ]
  },
  {
   "cell_type": "markdown",
   "metadata": {},
   "source": [
    "**Hypothesis**: \n",
    "1. The Off-Manifolder adds an extra dimension to the manifold, and makes it highly negatively curved -- but perhaps only in the directions normal to the manifold. If we recover Ricci curvatures we might find that, for the hemisphere, the two directions tangent to the manifold have the correct Ricci curvatures, e.g. moving along them creates the curvature of the manifold, but I doubt it. The curvature is already there.\n",
    "2. The encoder pullback metric shows only which dimensions of ambient space are compressed, not which are expanded. It's possible the pseudoinverse of the Jacobian would have the requisite information."
   ]
  },
  {
   "cell_type": "markdown",
   "metadata": {},
   "source": [
    "# Machinery"
   ]
  },
  {
   "cell_type": "markdown",
   "metadata": {},
   "source": [
    "We start by defining the hemisphere, the Off-Manifolder pullback, and the encoder."
   ]
  },
  {
   "cell_type": "code",
   "execution_count": 3,
   "metadata": {},
   "outputs": [
    {
     "name": "stderr",
     "output_type": "stream",
     "text": [
      "INFO: Using pytorch backend\n"
     ]
    }
   ],
   "source": [
    "from autometric.datasets import Hemisphere\n",
    "from autometric.off_manifold import OffManifolderLinear"
   ]
  },
  {
   "cell_type": "code",
   "execution_count": 4,
   "metadata": {},
   "outputs": [
    {
     "name": "stderr",
     "output_type": "stream",
     "text": [
      "/home/piriac/Pumberton/Workshop/23-Geometric-AE/dmae/src/autometric/src/autometric/datasets.py:133: UserWarning: To copy construct from a tensor, it is recommended to use sourceTensor.clone().detach() or sourceTensor.clone().detach().requires_grad_(True), rather than torch.tensor(sourceTensor).\n",
      "  data = torch.tensor(data)\n"
     ]
    }
   ],
   "source": [
    "H = Hemisphere(3000)\n",
    "H_highd = Hemisphere(3000, rotation_dimension = 10)"
   ]
  },
  {
   "cell_type": "code",
   "execution_count": 5,
   "metadata": {},
   "outputs": [],
   "source": [
    "offy = OffManifolderLinear(H.X, folding_dim = 10, density_k = 5, density_tol = 0.1, density_exponential = 4)"
   ]
  },
  {
   "cell_type": "code",
   "execution_count": 6,
   "metadata": {},
   "outputs": [
    {
     "ename": "ModuleNotFoundError",
     "evalue": "No module named 'dmae.models'",
     "output_type": "error",
     "traceback": [
      "\u001b[0;31m---------------------------------------------------------------------------\u001b[0m",
      "\u001b[0;31mModuleNotFoundError\u001b[0m                       Traceback (most recent call last)",
      "Cell \u001b[0;32mIn[6], line 1\u001b[0m\n\u001b[0;32m----> 1\u001b[0m \u001b[38;5;28;01mfrom\u001b[39;00m \u001b[38;5;21;01mdmae\u001b[39;00m\u001b[38;5;21;01m.\u001b[39;00m\u001b[38;5;21;01mmodels\u001b[39;00m\u001b[38;5;21;01m.\u001b[39;00m\u001b[38;5;21;01munified_model\u001b[39;00m \u001b[38;5;28;01mimport\u001b[39;00m GeometricAE\n\u001b[1;32m      2\u001b[0m \u001b[38;5;28;01mfrom\u001b[39;00m \u001b[38;5;21;01mdmae\u001b[39;00m\u001b[38;5;21;01m.\u001b[39;00m\u001b[38;5;21;01mmodels\u001b[39;00m\u001b[38;5;21;01m.\u001b[39;00m\u001b[38;5;21;01mdistance_matching\u001b[39;00m \u001b[38;5;28;01mimport\u001b[39;00m DistanceMatching\n",
      "\u001b[0;31mModuleNotFoundError\u001b[0m: No module named 'dmae.models'"
     ]
    }
   ],
   "source": [
    "from dmae.models.unified_model import GeometricAE\n",
    "from dmae.models.distance_matching import DistanceMatching"
   ]
  },
  {
   "cell_type": "code",
   "execution_count": 7,
   "metadata": {},
   "outputs": [],
   "source": [
    "import dmae"
   ]
  },
  {
   "cell_type": "code",
   "execution_count": 11,
   "metadata": {},
   "outputs": [
    {
     "name": "stdout",
     "output_type": "stream",
     "text": [
      "Help on class OffManifolderLinear in module autometric.off_manifold:\n",
      "\n",
      "class OffManifolderLinear(builtins.object)\n",
      " |  OffManifolderLinear(X, density_loss_function=None, folding_dim=10, density_k=5, density_tol=0.1, density_exponential=4)\n",
      " |  \n",
      " |  Folds points off manifold into higher dimensions using random matrices.\n",
      " |  \n",
      " |  Methods defined here:\n",
      " |  \n",
      " |  __init__(self, X, density_loss_function=None, folding_dim=10, density_k=5, density_tol=0.1, density_exponential=4)\n",
      " |      Initialize self.  See help(type(self)) for accurate signature.\n",
      " |  \n",
      " |  density_loss(self, points)\n",
      " |  \n",
      " |  immersion(self, points)\n",
      " |  \n",
      " |  pullback_metric(self, points)\n",
      " |  \n",
      " |  ----------------------------------------------------------------------\n",
      " |  Data descriptors defined here:\n",
      " |  \n",
      " |  __dict__\n",
      " |      dictionary for instance variables\n",
      " |  \n",
      " |  __weakref__\n",
      " |      list of weak references to the object\n",
      "\n"
     ]
    }
   ],
   "source": [
    "help(OffManifolderLinear)"
   ]
  },
  {
   "cell_type": "markdown",
   "metadata": {},
   "source": [
    "# Results"
   ]
  },
  {
   "cell_type": "code",
   "execution_count": null,
   "metadata": {},
   "outputs": [],
   "source": []
  },
  {
   "cell_type": "markdown",
   "metadata": {},
   "source": [
    "# Conclusion"
   ]
  },
  {
   "cell_type": "code",
   "execution_count": null,
   "metadata": {},
   "outputs": [],
   "source": []
  }
 ],
 "metadata": {
  "kernelspec": {
   "display_name": "dmae-pirates",
   "language": "python",
   "name": "dmae-pirates"
  },
  "language_info": {
   "codemirror_mode": {
    "name": "ipython",
    "version": 3
   },
   "file_extension": ".py",
   "mimetype": "text/x-python",
   "name": "python",
   "nbconvert_exporter": "python",
   "pygments_lexer": "ipython3",
   "version": "3.11.9"
  }
 },
 "nbformat": 4,
 "nbformat_minor": 4
}
