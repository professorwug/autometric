{
 "cells": [
  {
   "cell_type": "code",
   "execution_count": null,
   "metadata": {},
   "outputs": [
    {
     "name": "stdout",
     "output_type": "stream",
     "text": [
      "The autoreload extension is already loaded. To reload it, use:\n",
      "  %reload_ext autoreload\n"
     ]
    }
   ],
   "source": [
    "#|default_exp experiments.pullback_comparison\n",
    "## Standard libraries\n",
    "import os\n",
    "import math\n",
    "import numpy as np\n",
    "import time\n",
    "from fastcore.all import *\n",
    "from nbdev.showdoc import *\n",
    "\n",
    "# Configure environment\n",
    "os.environ['XLA_PYTHON_CLIENT_PREALLOCATE']='false' # Tells Jax not to hog all of the memory to this process.\n",
    "\n",
    "## Imports for plotting\n",
    "import matplotlib.pyplot as plt\n",
    "%matplotlib inline\n",
    "from IPython.display import set_matplotlib_formats\n",
    "# set_matplotlib_formats('svg', 'pdf') # For export\n",
    "from matplotlib.colors import to_rgba\n",
    "import seaborn as sns\n",
    "sns.set()\n",
    "\n",
    "## Progress bar\n",
    "from tqdm.auto import tqdm, trange\n",
    "\n",
    "import torch\n",
    "\n",
    "%load_ext autoreload\n",
    "%autoreload 2"
   ]
  },
  {
   "cell_type": "markdown",
   "metadata": {},
   "source": [
    "# 1 Comparing Pullback Types\n",
    "> Encoder? Decoder? Something in between?"
   ]
  },
  {
   "cell_type": "markdown",
   "metadata": {},
   "source": [
    "Through different pullbacks, one obtains different metrics, with different theoretical connections. Which are empirically best supported? Let's find out."
   ]
  },
  {
   "cell_type": "markdown",
   "metadata": {},
   "source": [
    "**Hypothesis**: The encoder pullback will prove itself incapable of constructing curvature. The decoder pullback will work well in low dimensions for manifolds homeomorphic to $R^2$, but much less so for more topologically complex manifolds, or those in higher dimensions."
   ]
  },
  {
   "cell_type": "markdown",
   "metadata": {},
   "source": [
    "# Machinery"
   ]
  },
  {
   "cell_type": "markdown",
   "metadata": {},
   "source": [
    "Here we implement a 'self evaluating dataset' with the intended use:\n",
    "1. Each iteration yields a pointcloud, on which one can train a custom model (or many) with your own training machinery.\n",
    "2. After training, you can store the results in the dataset by calling `.update`\n",
    "3. This repeats for every dataset included in the battery.\n",
    "4. Then call the `.table` and `.plot` functions to compile results."
   ]
  },
  {
   "cell_type": "code",
   "execution_count": null,
   "metadata": {},
   "outputs": [],
   "source": [
    "#|export\n",
    "from autometric.self_evaluating_datasets import SelfEvaluatingDataset, metric\n",
    "from autometric.datasets import Torus, Ellipsoid, Saddle\n",
    "import torch\n",
    "\n",
    "class PullbackComparisonDataset(SelfEvaluatingDataset):\n",
    "    def __init__(self, num_points = 3000):\n",
    "        datalist = [\n",
    "            Torus(num_points = num_points),\n",
    "            Ellipsoid(num_points = num_points),\n",
    "            Saddle(num_points = num_points),\n",
    "        ]\n",
    "        names = [\"Torus\", \"Ellipsoid\", \"Saddle\"]\n",
    "        result_names = [\"Curvature\", \"Metric Determinant\"]\n",
    "        super().__init__(datalist, names, result_names)\n",
    "        self.MSE = torch.nn.MSELoss()\n",
    "    \n",
    "    def get_item(self,idx):\n",
    "        X = self.DS[idx].obj.X\n",
    "        return X\n",
    "    \n",
    "    def get_truth(self, result_name, idx):\n",
    "        DS = self.DS[idx].obj\n",
    "        match result_name:\n",
    "            case \"Curvature\":\n",
    "                return DS.ks.detach().numpy()\n",
    "            case \"Metric Determinant\":\n",
    "                return DS.manifold.metric_det(DS.intrinsic_coords).detach().numpy()\n",
    "            case _:\n",
    "                raise NotImplementedError(f\"No such result {result_name}\")\n",
    "            \n",
    "    def compute(self, metric, result_name, method_name, filter = None):\n",
    "        # Overwrite this class with your logic. It implements the computation of a single metric for a single method\n",
    "        d = {}\n",
    "        for i, dsname in enumerate(self.names):\n",
    "            d[dsname] = metric(self.labels[result_name][method_name][i], self.labels[result_name]['ground truth'][i])\n",
    "        if filter is None: # average dataset values\n",
    "            return np.mean([d[dsname] for dsname in self.names])\n",
    "        elif filter == \"Everything\":\n",
    "            return d\n",
    "        elif filter in self.names:\n",
    "            return d[filter]\n",
    "        else:\n",
    "            raise NotImplementedError(\"Invalid filter\")\n",
    " \n",
    "    @metric\n",
    "    def dataset_mse(self, a, b):\n",
    "        return np.sum(np.square(a - b))\n",
    "    "
   ]
  },
  {
   "cell_type": "markdown",
   "metadata": {},
   "source": [
    "# Results"
   ]
  },
  {
   "cell_type": "code",
   "execution_count": null,
   "metadata": {},
   "outputs": [],
   "source": [
    "# from autometric.metrics import PullbackMetric\n",
    "# from autometric.connections import LeviCivitaConnection\n",
    "# from autometric.manifolds import RiemannianManifold\n",
    "# PB = PullbackComparisonDataset()\n",
    "\n",
    "# for p in PB:\n",
    "#     # train your model here\n",
    "\n",
    "#     # then get the curvature and metric determinant like this\n",
    "#     # encoder pullback\n",
    "#     pbm = PullbackMetric(2, model.encoder) \n",
    "#     lcc = LeviCivitaConnection(2, pbm)\n",
    "#     manifold = RiemannianManifold(2, (1, 1), metric=pbm, connection=lcc)\n",
    "#     ks = manifold.scalar_curvature(p) # just give p, without encoding, for encoder pullback\n",
    "#     PB.update(method_name = \"encoder pullback\", result_name = \"Curvature\", result = ks)\n",
    "#     metric_det = manifold.metric_det(p)\n",
    "#     PB.update(method_name = \"encoder pullback\", result_name = \"Metric Determinant\", result = metric_det)\n",
    "\n",
    "#     pbm = PullbackMetric(2, model.decoder) # switch for encoder pullback\n",
    "#     lcc = LeviCivitaConnection(2, pbm)\n",
    "#     manifold = RiemannianManifold(2, (1, 1), metric=pbm, connection=lcc)\n",
    "#     ks = manifold.scalar_curvature(model.encode(p)) # just give p, without encoding, for encoder pullback\n",
    "#     PB.update(method_name = \"decoder pullback\", result_name = \"Curvature\", result = ks)\n",
    "#     metric_det = manifold.metric_det(model.encode(p))\n",
    "#     PB.update(method_name = \"decoder pullback\", result_name = \"Metric Determinant\", result = metric_det)\n"
   ]
  },
  {
   "cell_type": "code",
   "execution_count": null,
   "metadata": {},
   "outputs": [],
   "source": [
    "PB = PullbackComparisonDataset()\n",
    "from autometric.metrics import PullbackMetric\n",
    "from autometric.connections import LeviCivitaConnection\n",
    "from autometric.manifolds import RiemannianManifold\n",
    "\n",
    "for p in PB:\n",
    "    # train your model here\n",
    "\n",
    "    # then get the curvature and metric determinant like this\n",
    "    # encoder pullback\n",
    "    pbm = PullbackMetric(2, model.encoder) \n",
    "    lcc = LeviCivitaConnection(2, pbm)\n",
    "    manifold = RiemannianManifold(2, (1, 1), metric=pbm, connection=lcc)\n",
    "    ks = manifold.scalar_curvature(p) # just give p, without encoding, for encoder pullback\n",
    "    PB.update(method_name = \"encoder pullback\", result_name = \"Curvature\", result = torch.rand(len(p)).numpy())\n",
    "    PB.update(method_name = \"encoder pullback\", result_name = \"Metric Determinant\", result = torch.rand(len(p)).numpy())\n",
    "\n",
    "    pbm = PullbackMetric(2, model.decoder) # switch for encoder pullback\n",
    "    lcc = LeviCivitaConnection(2, pbm)\n",
    "    manifold = RiemannianManifold(2, (1, 1), metric=pbm, connection=lcc)\n",
    "    ks = manifold.scalar_curvature(model.encode(p)) # just give p, without encoding, for encoder pullback\n",
    "    PB.update(method_name = \"random man\", result_name = \"Metric Determinant\", result = torch.rand(len(p)).numpy())"
   ]
  },
  {
   "cell_type": "code",
   "execution_count": null,
   "metadata": {},
   "outputs": [
    {
     "name": "stdout",
     "output_type": "stream",
     "text": [
      "Curvature\n",
      "              dataset_mse\n",
      "ground truth     0.000000\n",
      "random man    7805.900879\n",
      "Metric Determinant\n",
      "               dataset_mse\n",
      "ground truth  0.000000e+00\n",
      "random man    2.746998e+11\n"
     ]
    }
   ],
   "source": [
    "table = PB.table(filter=\"Torus\")"
   ]
  },
  {
   "cell_type": "markdown",
   "metadata": {},
   "source": [
    "# Conclusion"
   ]
  },
  {
   "cell_type": "code",
   "execution_count": null,
   "metadata": {},
   "outputs": [],
   "source": [
    "class GeometricAE:\n",
    "    def __init__(\n",
    "        self,\n",
    "        ambient_dimension,\n",
    "        latent_dimension,\n",
    "        model_type, # \"distance\" or \"affinity\"\n",
    "        # extra hyperparameters\n",
    "    ):\n",
    "        self.model = None # Get model\n",
    "        # do stuff\n",
    "        pass\n",
    "\n",
    "    def fit(\n",
    "        self,\n",
    "        X, # pointcloud with assumed local euclidean distances\n",
    "        percent_test = 0.3, # train/test split\n",
    "        n_epochs = 100, # other hyperparams of graph creation, including default phate\n",
    "    ):\n",
    "        # Compute PHATE/distances/heat geo\n",
    "        # Create pytorch PointCloud dataset, tailored to the model, with given train test split. \n",
    "        # training loop\n",
    "        pass\n",
    "        \n",
    "    def fit_transform(self, \n",
    "                      X, \n",
    "                      X_test,\n",
    "                      n_epochs):\n",
    "        self.fit()\n",
    "        return self.encode(X)\n",
    "        \n",
    "    def encode(self):\n",
    "        # Call the encoder function of the model\n",
    "        pass\n",
    "\n",
    "    def decode(self):\n",
    "        pass \n",
    "        \n",
    "    \n",
    "        \n",
    "    \n",
    "        \n",
    "    \n",
    "        \n",
    "    \n",
    "\n",
    "\n",
    "    \n",
    "\n",
    "    \n",
    "\n",
    "\n",
    "\t"
   ]
  }
 ],
 "metadata": {
  "kernelspec": {
   "display_name": "autometric",
   "language": "python",
   "name": "autometric"
  },
  "language_info": {
   "name": "python",
   "version": "3.11.8"
  }
 },
 "nbformat": 4,
 "nbformat_minor": 4
}
