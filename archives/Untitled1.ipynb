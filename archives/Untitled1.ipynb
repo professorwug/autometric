{
 "cells": [
  {
   "cell_type": "code",
   "execution_count": null,
   "id": "7367169c-3b6e-494c-9bbf-693a33eba6cf",
   "metadata": {},
   "outputs": [],
   "source": []
  }
 ],
 "metadata": {
  "kernelspec": {
   "display_name": "conda-env-autometric-py",
   "language": "python",
   "name": "conda-env-autometric-py"
  }
 },
 "nbformat": 4,
 "nbformat_minor": 5
}
